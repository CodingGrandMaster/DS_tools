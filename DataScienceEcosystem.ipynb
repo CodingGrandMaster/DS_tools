{
 "cells": [
  {
   "cell_type": "markdown",
   "id": "95fea3eb-6ee7-4328-9ddc-7f61aac67d52",
   "metadata": {},
   "source": [
    "# Data Science Tools and Ecosystem"
   ]
  },
  {
   "cell_type": "markdown",
   "id": "05b57776-98a2-400a-a3c4-8c3ba45046f6",
   "metadata": {},
   "source": [
    "In this notebook, Data Science Tools and Ecosystem are summarized.\n"
   ]
  },
  {
   "cell_type": "markdown",
   "id": "3a882d32-3606-4b30-a52b-e6a4177587aa",
   "metadata": {},
   "source": [
    "***Objective-This course gave a brief instruction about the tools used in data science field***  \n",
    "Popular languages for Data Science\n",
    "* Python\n",
    "* R\n",
    "* SQL\n",
    "\n"
   ]
  },
  {
   "cell_type": "markdown",
   "id": "79221a5a-2d34-40e6-b407-0c7aff3e511f",
   "metadata": {},
   "source": [
    "Some of the popular languages that Data Scientists use are:\n",
    "1. Python\n",
    "2. R\n",
    "3. SQL\n",
    "4. Java\n",
    "5. Julia\n",
    "6. Scala\n",
    "7. C/C++\n",
    "8. JavaScript\n",
    "9. Swift\n",
    "10. Go\n",
    "11. MATLAB\n",
    "12. SAS\n"
   ]
  },
  {
   "cell_type": "markdown",
   "id": "eb60cfa6-d991-4883-bf01-ddf34b259ece",
   "metadata": {},
   "source": [
    "Some of the commonly used libraries used by Data Scientists include:\n",
    "1. TensorFlow\n",
    "2. NumPy\n",
    "3. SciPy \n",
    "4. Pandas\n",
    "5. Matplotlib \n",
    "6. Keras\n",
    "7. SciKit-Learn\n",
    "8. PyTorch\n"
   ]
  },
  {
   "cell_type": "markdown",
   "id": "68bbdc38-c87a-4229-a397-ff29d5e3334e",
   "metadata": {},
   "source": [
    "| Data Science Tools |\n",
    "|:------------------:|\n",
    "| Jupyter Notebook   |\n",
    "| Apache Spark       |\n",
    "| TensorFlow         |\n"
   ]
  },
  {
   "cell_type": "markdown",
   "id": "51ef0a0a-5b59-47fb-930e-f2cef5c52669",
   "metadata": {},
   "source": [
    "### Below are a few examples of evaluating arithmetic expressions in Python"
   ]
  },
  {
   "cell_type": "code",
   "execution_count": 9,
   "id": "67a40490-64fa-4a89-bc25-49cae898c2d8",
   "metadata": {},
   "outputs": [
    {
     "data": {
      "text/plain": [
       "17"
      ]
     },
     "execution_count": 9,
     "metadata": {},
     "output_type": "execute_result"
    }
   ],
   "source": [
    "#This a simple arithmetic expression to mutiply then add integers\n",
    "(3*4)+5"
   ]
  },
  {
   "cell_type": "code",
   "execution_count": 11,
   "id": "2bda75e9-5ef8-4592-bd65-5d0b158ca1ef",
   "metadata": {},
   "outputs": [
    {
     "data": {
      "text/plain": [
       "3.3333333333333335"
      ]
     },
     "execution_count": 11,
     "metadata": {},
     "output_type": "execute_result"
    }
   ],
   "source": [
    "#This will convert 200 minutes to hours by diving by 60\n",
    "200/60\n"
   ]
  },
  {
   "cell_type": "markdown",
   "id": "7cc9c1f3-3a8a-47dd-aa14-f37373b36b98",
   "metadata": {},
   "source": [
    "## Author\n",
    "***Siddhesh Dhadse***"
   ]
  },
  {
   "cell_type": "code",
   "execution_count": null,
   "id": "65835794-f7d7-4865-91da-b672854b1dd3",
   "metadata": {},
   "outputs": [],
   "source": []
  }
 ],
 "metadata": {
  "kernelspec": {
   "display_name": "anaconda-panel-2023.05-py310",
   "language": "python",
   "name": "conda-env-anaconda-panel-2023.05-py310-py"
  },
  "language_info": {
   "codemirror_mode": {
    "name": "ipython",
    "version": 3
   },
   "file_extension": ".py",
   "mimetype": "text/x-python",
   "name": "python",
   "nbconvert_exporter": "python",
   "pygments_lexer": "ipython3",
   "version": "3.11.4"
  }
 },
 "nbformat": 4,
 "nbformat_minor": 5
}
